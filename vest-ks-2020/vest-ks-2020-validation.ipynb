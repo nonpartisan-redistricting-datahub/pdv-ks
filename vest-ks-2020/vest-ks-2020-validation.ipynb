{
 "cells": [
  {
   "cell_type": "code",
   "execution_count": 1,
   "metadata": {},
   "outputs": [],
   "source": [
    "import pandas as pd\n",
    "import sys\n",
    "import numpy as np\n",
    "import geopandas as gp\n",
    "import matplotlib.pyplot as plt\n",
    "import os"
   ]
  },
  {
   "cell_type": "markdown",
   "metadata": {},
   "source": [
    "# Precinct Shapefile"
   ]
  },
  {
   "cell_type": "markdown",
   "metadata": {},
   "source": [
    "## VEST's Documentation File"
   ]
  },
  {
   "cell_type": "markdown",
   "metadata": {},
   "source": [
    "Election results from Kansas Secretary of State (https://sos.ks.gov/elections/elections-statistics.html).\n",
    "Precinct shapefiles primarily from the U.S. Census Bureau's 2020 Redistricting Data Program Phase 2 release.\n",
    "\n",
    "Shapefiles from county elections officials used in Geary, Johnson, Riley, and Sedgwick Counties.\n",
    "\n",
    "Modifications needed to be made to reflect differences between Census shapefiles and actual PDF maps or reported results.\n",
    "\n",
    "- Barber: Ridge merged into Sharon Township\n",
    "- Butler: Augusta Township merged\n",
    "- Chase: East/West Strong merged, East/West Falls merged\n",
    "- Cherokee: Treece merged with township\n",
    "- Clay: Altered Clay Center boundaries based on PDF map\n",
    "- Cowley: Merge East/West Bolton\n",
    "- Douglas: Altered based on PDF map\n",
    "- Ellis: Split two precincts based on state house districts\n",
    "- Franklin: Merged Ottawa 4+5, altered boundary between 1 and 2\n",
    "- Hamilton: Adjusted Syracuse boundaries based on county commission district map\n",
    "- Harvey: Distributed an exclave district to its neighboring townships\n",
    "- Labette: Split precincts based on legislative districts\n",
    "- Leavenworth: Merged legislative district-split precincts that don't appear in results\n",
    "- Lyon: Mergers based on PDF map\n",
    "- Meade: Split Louisburg based on PDF map\n",
    "- Mitchell: Merged Beloit precincts based on county reports\n",
    "- Osborne: Merged some cities into surrounding townships, split Ross based on information from personal communication with county election official\n",
    "- Reno: Merged based on PDF map\n",
    "- Shawnee: Merged wards in Topeka to match result reporting\n",
    "- Stevens: Cut Moscow City out of Township using Census place shapefile, recut Hugoton based on PDF map\n",
    "- Sumner: Split precincts based on legislative district lines\n",
    "\n",
    "\n",
    "- G20PREDBID - Joseph R. Biden (Democratic Party)\n",
    "- G20PRERTRU - Donald J. Trump (Republican Party)\n",
    "- G20PRELJOR - Jo Jorgensen (Libertarian Party)\n",
    "\n",
    "\n",
    "- G20USSDBOL - Barbara Bollier (Democratic Party)\n",
    "- G20USSRMAR - Roger Marshall (Republican Party)\n",
    "- G20USSLBUC - Jason Buckley (Libertarian Party)\n"
   ]
  },
  {
   "cell_type": "markdown",
   "metadata": {},
   "source": [
    "## Load VEST's Final File"
   ]
  },
  {
   "cell_type": "code",
   "execution_count": 2,
   "metadata": {},
   "outputs": [],
   "source": [
    "vest_shp = gp.read_file(\"./raw-from-source/VEST/ks_2020/ks_2020.shp\")"
   ]
  },
  {
   "cell_type": "code",
   "execution_count": 3,
   "metadata": {},
   "outputs": [
    {
     "data": {
      "text/plain": [
       "(4070, 10)"
      ]
     },
     "execution_count": 3,
     "metadata": {},
     "output_type": "execute_result"
    }
   ],
   "source": [
    "vest_shp.shape"
   ]
  },
  {
   "cell_type": "code",
   "execution_count": 4,
   "metadata": {},
   "outputs": [
    {
     "data": {
      "text/html": [
       "<div>\n",
       "<style scoped>\n",
       "    .dataframe tbody tr th:only-of-type {\n",
       "        vertical-align: middle;\n",
       "    }\n",
       "\n",
       "    .dataframe tbody tr th {\n",
       "        vertical-align: top;\n",
       "    }\n",
       "\n",
       "    .dataframe thead th {\n",
       "        text-align: right;\n",
       "    }\n",
       "</style>\n",
       "<table border=\"1\" class=\"dataframe\">\n",
       "  <thead>\n",
       "    <tr style=\"text-align: right;\">\n",
       "      <th></th>\n",
       "      <th>COUNTYFP</th>\n",
       "      <th>VTDST</th>\n",
       "      <th>NAMELSAD</th>\n",
       "      <th>G20PREDBID</th>\n",
       "      <th>G20PRERTRU</th>\n",
       "      <th>G20PRELJOR</th>\n",
       "      <th>G20USSDBOL</th>\n",
       "      <th>G20USSRMAR</th>\n",
       "      <th>G20USSLBUC</th>\n",
       "      <th>geometry</th>\n",
       "    </tr>\n",
       "  </thead>\n",
       "  <tbody>\n",
       "    <tr>\n",
       "      <th>0</th>\n",
       "      <td>001</td>\n",
       "      <td>000010</td>\n",
       "      <td>Carlyle Township Voting District</td>\n",
       "      <td>32</td>\n",
       "      <td>134</td>\n",
       "      <td>4</td>\n",
       "      <td>35</td>\n",
       "      <td>133</td>\n",
       "      <td>2</td>\n",
       "      <td>POLYGON Z ((-95.42748 37.96487 0.00000, -95.42...</td>\n",
       "    </tr>\n",
       "  </tbody>\n",
       "</table>\n",
       "</div>"
      ],
      "text/plain": [
       "  COUNTYFP   VTDST                          NAMELSAD  G20PREDBID  G20PRERTRU  \\\n",
       "0      001  000010  Carlyle Township Voting District          32         134   \n",
       "\n",
       "   G20PRELJOR  G20USSDBOL  G20USSRMAR  G20USSLBUC  \\\n",
       "0           4          35         133           2   \n",
       "\n",
       "                                            geometry  \n",
       "0  POLYGON Z ((-95.42748 37.96487 0.00000, -95.42...  "
      ]
     },
     "execution_count": 4,
     "metadata": {},
     "output_type": "execute_result"
    }
   ],
   "source": [
    "vest_shp.head(1)"
   ]
  },
  {
   "cell_type": "code",
   "execution_count": 5,
   "metadata": {},
   "outputs": [
    {
     "data": {
      "text/plain": [
       "<matplotlib.axes._subplots.AxesSubplot at 0x7fb8a8af7f70>"
      ]
     },
     "execution_count": 5,
     "metadata": {},
     "output_type": "execute_result"
    },
    {
     "data": {
      "image/png": "[encoded data removed]",
      "text/plain": [
       "<Figure size 432x288 with 1 Axes>"
      ]
     },
     "metadata": {
      "needs_background": "light"
     },
     "output_type": "display_data"
    }
   ],
   "source": [
    "vest_shp.boundary.plot()"
   ]
  },
  {
   "cell_type": "code",
   "execution_count": 6,
   "metadata": {},
   "outputs": [
    {
     "data": {
      "text/html": [
       "<div>\n",
       "<style scoped>\n",
       "    .dataframe tbody tr th:only-of-type {\n",
       "        vertical-align: middle;\n",
       "    }\n",
       "\n",
       "    .dataframe tbody tr th {\n",
       "        vertical-align: top;\n",
       "    }\n",
       "\n",
       "    .dataframe thead th {\n",
       "        text-align: right;\n",
       "    }\n",
       "</style>\n",
       "<table border=\"1\" class=\"dataframe\">\n",
       "  <thead>\n",
       "    <tr style=\"text-align: right;\">\n",
       "      <th></th>\n",
       "      <th>COUNTYFP</th>\n",
       "      <th>VTDST</th>\n",
       "      <th>NAMELSAD</th>\n",
       "      <th>G20PREDBID</th>\n",
       "      <th>G20PRERTRU</th>\n",
       "      <th>G20PRELJOR</th>\n",
       "      <th>G20USSDBOL</th>\n",
       "      <th>G20USSRMAR</th>\n",
       "      <th>G20USSLBUC</th>\n",
       "      <th>geometry</th>\n",
       "    </tr>\n",
       "  </thead>\n",
       "  <tbody>\n",
       "    <tr>\n",
       "      <th>3621</th>\n",
       "      <td>173</td>\n",
       "      <td>100000</td>\n",
       "      <td>101</td>\n",
       "      <td>601</td>\n",
       "      <td>488</td>\n",
       "      <td>33</td>\n",
       "      <td>595</td>\n",
       "      <td>458</td>\n",
       "      <td>64</td>\n",
       "      <td>POLYGON Z ((-97.29881 37.66457 0.00000, -97.30...</td>\n",
       "    </tr>\n",
       "    <tr>\n",
       "      <th>3622</th>\n",
       "      <td>173</td>\n",
       "      <td>100001</td>\n",
       "      <td>102</td>\n",
       "      <td>496</td>\n",
       "      <td>444</td>\n",
       "      <td>25</td>\n",
       "      <td>510</td>\n",
       "      <td>434</td>\n",
       "      <td>29</td>\n",
       "      <td>POLYGON Z ((-97.26609 37.68854 0.00000, -97.26...</td>\n",
       "    </tr>\n",
       "    <tr>\n",
       "      <th>3623</th>\n",
       "      <td>173</td>\n",
       "      <td>100002</td>\n",
       "      <td>103</td>\n",
       "      <td>141</td>\n",
       "      <td>62</td>\n",
       "      <td>4</td>\n",
       "      <td>135</td>\n",
       "      <td>61</td>\n",
       "      <td>8</td>\n",
       "      <td>POLYGON Z ((-97.32639 37.67871 0.00000, -97.32...</td>\n",
       "    </tr>\n",
       "    <tr>\n",
       "      <th>3624</th>\n",
       "      <td>173</td>\n",
       "      <td>100003</td>\n",
       "      <td>104</td>\n",
       "      <td>45</td>\n",
       "      <td>21</td>\n",
       "      <td>3</td>\n",
       "      <td>48</td>\n",
       "      <td>18</td>\n",
       "      <td>2</td>\n",
       "      <td>POLYGON Z ((-97.31721 37.67876 0.00000, -97.31...</td>\n",
       "    </tr>\n",
       "    <tr>\n",
       "      <th>3625</th>\n",
       "      <td>173</td>\n",
       "      <td>100004</td>\n",
       "      <td>105</td>\n",
       "      <td>456</td>\n",
       "      <td>212</td>\n",
       "      <td>17</td>\n",
       "      <td>462</td>\n",
       "      <td>190</td>\n",
       "      <td>37</td>\n",
       "      <td>POLYGON Z ((-97.29890 37.67930 0.00000, -97.29...</td>\n",
       "    </tr>\n",
       "    <tr>\n",
       "      <th>...</th>\n",
       "      <td>...</td>\n",
       "      <td>...</td>\n",
       "      <td>...</td>\n",
       "      <td>...</td>\n",
       "      <td>...</td>\n",
       "      <td>...</td>\n",
       "      <td>...</td>\n",
       "      <td>...</td>\n",
       "      <td>...</td>\n",
       "      <td>...</td>\n",
       "    </tr>\n",
       "    <tr>\n",
       "      <th>4065</th>\n",
       "      <td>173</td>\n",
       "      <td>100444</td>\n",
       "      <td>WA08</td>\n",
       "      <td>0</td>\n",
       "      <td>0</td>\n",
       "      <td>0</td>\n",
       "      <td>0</td>\n",
       "      <td>0</td>\n",
       "      <td>0</td>\n",
       "      <td>POLYGON Z ((-97.38730 37.62487 0.00000, -97.38...</td>\n",
       "    </tr>\n",
       "    <tr>\n",
       "      <th>4066</th>\n",
       "      <td>173</td>\n",
       "      <td>100445</td>\n",
       "      <td>WA09</td>\n",
       "      <td>0</td>\n",
       "      <td>0</td>\n",
       "      <td>0</td>\n",
       "      <td>0</td>\n",
       "      <td>0</td>\n",
       "      <td>0</td>\n",
       "      <td>POLYGON Z ((-97.46341 37.63383 0.00000, -97.46...</td>\n",
       "    </tr>\n",
       "    <tr>\n",
       "      <th>4067</th>\n",
       "      <td>173</td>\n",
       "      <td>100446</td>\n",
       "      <td>WA10</td>\n",
       "      <td>0</td>\n",
       "      <td>0</td>\n",
       "      <td>0</td>\n",
       "      <td>0</td>\n",
       "      <td>0</td>\n",
       "      <td>0</td>\n",
       "      <td>POLYGON Z ((-97.46331 37.64772 0.00000, -97.46...</td>\n",
       "    </tr>\n",
       "    <tr>\n",
       "      <th>4068</th>\n",
       "      <td>173</td>\n",
       "      <td>100447</td>\n",
       "      <td>WA11</td>\n",
       "      <td>0</td>\n",
       "      <td>0</td>\n",
       "      <td>0</td>\n",
       "      <td>0</td>\n",
       "      <td>0</td>\n",
       "      <td>0</td>\n",
       "      <td>POLYGON Z ((-97.48022 37.63013 0.00000, -97.48...</td>\n",
       "    </tr>\n",
       "    <tr>\n",
       "      <th>4069</th>\n",
       "      <td>173</td>\n",
       "      <td>100448</td>\n",
       "      <td>WA12</td>\n",
       "      <td>0</td>\n",
       "      <td>1</td>\n",
       "      <td>1</td>\n",
       "      <td>0</td>\n",
       "      <td>2</td>\n",
       "      <td>0</td>\n",
       "      <td>POLYGON Z ((-97.37149 37.56791 0.00000, -97.37...</td>\n",
       "    </tr>\n",
       "  </tbody>\n",
       "</table>\n",
       "<p>449 rows × 10 columns</p>\n",
       "</div>"
      ],
      "text/plain": [
       "     COUNTYFP   VTDST NAMELSAD  G20PREDBID  G20PRERTRU  G20PRELJOR  \\\n",
       "3621      173  100000      101         601         488          33   \n",
       "3622      173  100001      102         496         444          25   \n",
       "3623      173  100002      103         141          62           4   \n",
       "3624      173  100003      104          45          21           3   \n",
       "3625      173  100004      105         456         212          17   \n",
       "...       ...     ...      ...         ...         ...         ...   \n",
       "4065      173  100444     WA08           0           0           0   \n",
       "4066      173  100445     WA09           0           0           0   \n",
       "4067      173  100446     WA10           0           0           0   \n",
       "4068      173  100447     WA11           0           0           0   \n",
       "4069      173  100448     WA12           0           1           1   \n",
       "\n",
       "      G20USSDBOL  G20USSRMAR  G20USSLBUC  \\\n",
       "3621         595         458          64   \n",
       "3622         510         434          29   \n",
       "3623         135          61           8   \n",
       "3624          48          18           2   \n",
       "3625         462         190          37   \n",
       "...          ...         ...         ...   \n",
       "4065           0           0           0   \n",
       "4066           0           0           0   \n",
       "4067           0           0           0   \n",
       "4068           0           0           0   \n",
       "4069           0           2           0   \n",
       "\n",
       "                                               geometry  \n",
       "3621  POLYGON Z ((-97.29881 37.66457 0.00000, -97.30...  \n",
       "3622  POLYGON Z ((-97.26609 37.68854 0.00000, -97.26...  \n",
       "3623  POLYGON Z ((-97.32639 37.67871 0.00000, -97.32...  \n",
       "3624  POLYGON Z ((-97.31721 37.67876 0.00000, -97.31...  \n",
       "3625  POLYGON Z ((-97.29890 37.67930 0.00000, -97.29...  \n",
       "...                                                 ...  \n",
       "4065  POLYGON Z ((-97.38730 37.62487 0.00000, -97.38...  \n",
       "4066  POLYGON Z ((-97.46341 37.63383 0.00000, -97.46...  \n",
       "4067  POLYGON Z ((-97.46331 37.64772 0.00000, -97.46...  \n",
       "4068  POLYGON Z ((-97.48022 37.63013 0.00000, -97.48...  \n",
       "4069  POLYGON Z ((-97.37149 37.56791 0.00000, -97.37...  \n",
       "\n",
       "[449 rows x 10 columns]"
      ]
     },
     "execution_count": 6,
     "metadata": {},
     "output_type": "execute_result"
    }
   ],
   "source": [
    "vest_shp[vest_shp['COUNTYFP'] == '173']"
   ]
  },
  {
   "cell_type": "markdown",
   "metadata": {},
   "source": [
    "# Loading, Combining Election Results"
   ]
  },
  {
   "cell_type": "markdown",
   "metadata": {},
   "source": [
    "## Load County Fips File"
   ]
  },
  {
   "cell_type": "code",
   "execution_count": 7,
   "metadata": {},
   "outputs": [],
   "source": [
    "#Load in the nationwide FIPS file\n",
    "fips_file = pd.read_csv(\"./raw-from-source/FIPS/US_FIPS_Codes.csv\")\n",
    "fips_file = fips_file[fips_file[\"State\"]==\"Kansas\"]\n",
    "fips_file[\"FIPS County\"]=fips_file[\"FIPS County\"].astype(str)\n",
    "\n",
    "#Make the FIPS three digits\n",
    "fips_file[\"FIPS County\"]=fips_file[\"FIPS County\"].str.zfill(3)\n",
    "\n",
    "#Create the dictionary\n",
    "fips_dict = dict(zip(fips_file[\"County Name\"],fips_file[\"FIPS County\"]))"
   ]
  },
  {
   "cell_type": "markdown",
   "metadata": {},
   "source": [
    "## Election Results"
   ]
  },
  {
   "cell_type": "markdown",
   "metadata": {},
   "source": [
    "The `-edited.xlsx` files below were edited to combine the separate Excel tabs for Johnson, Sedgwick, Shawnee and Wyandotte counties into one tab. "
   ]
  },
  {
   "cell_type": "markdown",
   "metadata": {},
   "source": [
    "### Presidential"
   ]
  },
  {
   "cell_type": "code",
   "execution_count": null,
   "metadata": {},
   "outputs": [],
   "source": [
    "pres_results = pd.ExcelFile('./raw-from-source/SOS/2020_General_Election_President_results_by_precinct-edited.xlsx')\n",
    "\n",
    "minor_counties_df = pd.read_excel(pres_results, 'President')\n",
    "minor_counties_df = minor_counties_df.pivot_table(index = ['County','Precinct','VTD'],\n",
    "                         columns = ['Race','Candidate'],\n",
    "                        values = ['Votes'],\n",
    "                         aggfunc = 'sum')\n",
    "minor_counties_df.reset_index(inplace=True)\n",
    "minor_counties_df.head(1)"
   ]
  },
  {
   "cell_type": "code",
   "execution_count": 9,
   "metadata": {},
   "outputs": [
    {
     "data": {
      "text/html": [
       "<div>\n",
       "<style scoped>\n",
       "    .dataframe tbody tr th:only-of-type {\n",
       "        vertical-align: middle;\n",
       "    }\n",
       "\n",
       "    .dataframe tbody tr th {\n",
       "        vertical-align: top;\n",
       "    }\n",
       "\n",
       "    .dataframe thead th {\n",
       "        text-align: right;\n",
       "    }\n",
       "</style>\n",
       "<table border=\"1\" class=\"dataframe\">\n",
       "  <thead>\n",
       "    <tr style=\"text-align: right;\">\n",
       "      <th></th>\n",
       "      <th>county</th>\n",
       "      <th>precinct</th>\n",
       "      <th>vtd</th>\n",
       "      <th>G20PRERTRU</th>\n",
       "      <th>G20PRELJOR</th>\n",
       "      <th>G20PREDBID</th>\n",
       "    </tr>\n",
       "  </thead>\n",
       "  <tbody>\n",
       "    <tr>\n",
       "      <th>0</th>\n",
       "      <td>Allen</td>\n",
       "      <td>Carlyle Township</td>\n",
       "      <td>000010</td>\n",
       "      <td>134.0</td>\n",
       "      <td>4.0</td>\n",
       "      <td>32.0</td>\n",
       "    </tr>\n",
       "    <tr>\n",
       "      <th>1</th>\n",
       "      <td>Allen</td>\n",
       "      <td>Cottage Grove Township</td>\n",
       "      <td>000020</td>\n",
       "      <td>101.0</td>\n",
       "      <td>2.0</td>\n",
       "      <td>18.0</td>\n",
       "    </tr>\n",
       "    <tr>\n",
       "      <th>2</th>\n",
       "      <td>Allen</td>\n",
       "      <td>Deer Creek Township</td>\n",
       "      <td>000030</td>\n",
       "      <td>60.0</td>\n",
       "      <td>1.0</td>\n",
       "      <td>11.0</td>\n",
       "    </tr>\n",
       "    <tr>\n",
       "      <th>3</th>\n",
       "      <td>Allen</td>\n",
       "      <td>East Elm</td>\n",
       "      <td>000040</td>\n",
       "      <td>237.0</td>\n",
       "      <td>2.0</td>\n",
       "      <td>45.0</td>\n",
       "    </tr>\n",
       "    <tr>\n",
       "      <th>4</th>\n",
       "      <td>Allen</td>\n",
       "      <td>Geneva Township</td>\n",
       "      <td>000050</td>\n",
       "      <td>65.0</td>\n",
       "      <td>0.0</td>\n",
       "      <td>12.0</td>\n",
       "    </tr>\n",
       "    <tr>\n",
       "      <th>...</th>\n",
       "      <td>...</td>\n",
       "      <td>...</td>\n",
       "      <td>...</td>\n",
       "      <td>...</td>\n",
       "      <td>...</td>\n",
       "      <td>...</td>\n",
       "    </tr>\n",
       "    <tr>\n",
       "      <th>2750</th>\n",
       "      <td>Woodson</td>\n",
       "      <td>Toronto Township</td>\n",
       "      <td>000070</td>\n",
       "      <td>189.0</td>\n",
       "      <td>9.0</td>\n",
       "      <td>58.0</td>\n",
       "    </tr>\n",
       "    <tr>\n",
       "      <th>2751</th>\n",
       "      <td>Woodson</td>\n",
       "      <td>Yates Center Ward 1</td>\n",
       "      <td>00008A</td>\n",
       "      <td>249.0</td>\n",
       "      <td>9.0</td>\n",
       "      <td>68.0</td>\n",
       "    </tr>\n",
       "    <tr>\n",
       "      <th>2752</th>\n",
       "      <td>Woodson</td>\n",
       "      <td>Yates Center Ward 1 Exclave</td>\n",
       "      <td>00008B</td>\n",
       "      <td>0.0</td>\n",
       "      <td>0.0</td>\n",
       "      <td>0.0</td>\n",
       "    </tr>\n",
       "    <tr>\n",
       "      <th>2753</th>\n",
       "      <td>Woodson</td>\n",
       "      <td>Yates Center Ward 2</td>\n",
       "      <td>000090</td>\n",
       "      <td>231.0</td>\n",
       "      <td>1.0</td>\n",
       "      <td>61.0</td>\n",
       "    </tr>\n",
       "    <tr>\n",
       "      <th>2754</th>\n",
       "      <td>Woodson</td>\n",
       "      <td>Yates Center Ward 2 Exclave</td>\n",
       "      <td>900010</td>\n",
       "      <td>0.0</td>\n",
       "      <td>0.0</td>\n",
       "      <td>0.0</td>\n",
       "    </tr>\n",
       "  </tbody>\n",
       "</table>\n",
       "<p>2755 rows × 6 columns</p>\n",
       "</div>"
      ],
      "text/plain": [
       "       county                     precinct     vtd  G20PRERTRU  G20PRELJOR  \\\n",
       "0       Allen             Carlyle Township  000010       134.0         4.0   \n",
       "1       Allen       Cottage Grove Township  000020       101.0         2.0   \n",
       "2       Allen          Deer Creek Township  000030        60.0         1.0   \n",
       "3       Allen                     East Elm  000040       237.0         2.0   \n",
       "4       Allen              Geneva Township  000050        65.0         0.0   \n",
       "...       ...                          ...     ...         ...         ...   \n",
       "2750  Woodson             Toronto Township  000070       189.0         9.0   \n",
       "2751  Woodson          Yates Center Ward 1  00008A       249.0         9.0   \n",
       "2752  Woodson  Yates Center Ward 1 Exclave  00008B         0.0         0.0   \n",
       "2753  Woodson          Yates Center Ward 2  000090       231.0         1.0   \n",
       "2754  Woodson  Yates Center Ward 2 Exclave  900010         0.0         0.0   \n",
       "\n",
       "      G20PREDBID  \n",
       "0           32.0  \n",
       "1           18.0  \n",
       "2           11.0  \n",
       "3           45.0  \n",
       "4           12.0  \n",
       "...          ...  \n",
       "2750        58.0  \n",
       "2751        68.0  \n",
       "2752         0.0  \n",
       "2753        61.0  \n",
       "2754         0.0  \n",
       "\n",
       "[2755 rows x 6 columns]"
      ]
     },
     "execution_count": 9,
     "metadata": {},
     "output_type": "execute_result"
    }
   ],
   "source": [
    "minor_counties_df.columns = ['county','precinct','vtd','G20PRERTRU','G20PRELJOR','G20PREDBID']\n",
    "minor_counties_df"
   ]
  },
  {
   "cell_type": "code",
   "execution_count": 10,
   "metadata": {},
   "outputs": [
    {
     "data": {
      "text/html": [
       "<div>\n",
       "<style scoped>\n",
       "    .dataframe tbody tr th:only-of-type {\n",
       "        vertical-align: middle;\n",
       "    }\n",
       "\n",
       "    .dataframe tbody tr th {\n",
       "        vertical-align: top;\n",
       "    }\n",
       "\n",
       "    .dataframe thead th {\n",
       "        text-align: right;\n",
       "    }\n",
       "</style>\n",
       "<table border=\"1\" class=\"dataframe\">\n",
       "  <thead>\n",
       "    <tr style=\"text-align: right;\">\n",
       "      <th></th>\n",
       "      <th>county</th>\n",
       "      <th>precinct</th>\n",
       "      <th>vtd</th>\n",
       "      <th>G20PREDBID</th>\n",
       "      <th>G20PRELJOR</th>\n",
       "      <th>G20PRERTRU</th>\n",
       "    </tr>\n",
       "  </thead>\n",
       "  <tbody>\n",
       "    <tr>\n",
       "      <th>0</th>\n",
       "      <td>Johnson</td>\n",
       "      <td>Aubry Township Precinct 01</td>\n",
       "      <td>1</td>\n",
       "      <td>43</td>\n",
       "      <td>2</td>\n",
       "      <td>99</td>\n",
       "    </tr>\n",
       "    <tr>\n",
       "      <th>1</th>\n",
       "      <td>Johnson</td>\n",
       "      <td>Aubry Township Precinct 02</td>\n",
       "      <td>2</td>\n",
       "      <td>381</td>\n",
       "      <td>34</td>\n",
       "      <td>589</td>\n",
       "    </tr>\n",
       "    <tr>\n",
       "      <th>2</th>\n",
       "      <td>Johnson</td>\n",
       "      <td>Aubry Township Precinct 03</td>\n",
       "      <td>3</td>\n",
       "      <td>182</td>\n",
       "      <td>14</td>\n",
       "      <td>338</td>\n",
       "    </tr>\n",
       "    <tr>\n",
       "      <th>3</th>\n",
       "      <td>Johnson</td>\n",
       "      <td>Aubry Township Precinct 04</td>\n",
       "      <td>4</td>\n",
       "      <td>468</td>\n",
       "      <td>32</td>\n",
       "      <td>852</td>\n",
       "    </tr>\n",
       "    <tr>\n",
       "      <th>4</th>\n",
       "      <td>Johnson</td>\n",
       "      <td>Aubry Township Precinct 05</td>\n",
       "      <td>5</td>\n",
       "      <td>7</td>\n",
       "      <td>0</td>\n",
       "      <td>11</td>\n",
       "    </tr>\n",
       "  </tbody>\n",
       "</table>\n",
       "</div>"
      ],
      "text/plain": [
       "    county                    precinct vtd  G20PREDBID  G20PRELJOR  G20PRERTRU\n",
       "0  Johnson  Aubry Township Precinct 01   1          43           2          99\n",
       "1  Johnson  Aubry Township Precinct 02   2         381          34         589\n",
       "2  Johnson  Aubry Township Precinct 03   3         182          14         338\n",
       "3  Johnson  Aubry Township Precinct 04   4         468          32         852\n",
       "4  Johnson  Aubry Township Precinct 05   5           7           0          11"
      ]
     },
     "execution_count": 10,
     "metadata": {},
     "output_type": "execute_result"
    }
   ],
   "source": [
    "major_counties_df = pd.read_excel(pres_results, 'Other Counties')\n",
    "major_counties_df.head()"
   ]
  },
  {
   "cell_type": "code",
   "execution_count": 11,
   "metadata": {},
   "outputs": [
    {
     "data": {
      "text/html": [
       "<div>\n",
       "<style scoped>\n",
       "    .dataframe tbody tr th:only-of-type {\n",
       "        vertical-align: middle;\n",
       "    }\n",
       "\n",
       "    .dataframe tbody tr th {\n",
       "        vertical-align: top;\n",
       "    }\n",
       "\n",
       "    .dataframe thead th {\n",
       "        text-align: right;\n",
       "    }\n",
       "</style>\n",
       "<table border=\"1\" class=\"dataframe\">\n",
       "  <thead>\n",
       "    <tr style=\"text-align: right;\">\n",
       "      <th></th>\n",
       "      <th>county</th>\n",
       "      <th>precinct</th>\n",
       "      <th>vtd</th>\n",
       "      <th>G20PRERTRU</th>\n",
       "      <th>G20PRELJOR</th>\n",
       "      <th>G20PREDBID</th>\n",
       "    </tr>\n",
       "  </thead>\n",
       "  <tbody>\n",
       "    <tr>\n",
       "      <th>0</th>\n",
       "      <td>Allen</td>\n",
       "      <td>Carlyle Township</td>\n",
       "      <td>000010</td>\n",
       "      <td>134.0</td>\n",
       "      <td>4.0</td>\n",
       "      <td>32.0</td>\n",
       "    </tr>\n",
       "    <tr>\n",
       "      <th>1</th>\n",
       "      <td>Allen</td>\n",
       "      <td>Cottage Grove Township</td>\n",
       "      <td>000020</td>\n",
       "      <td>101.0</td>\n",
       "      <td>2.0</td>\n",
       "      <td>18.0</td>\n",
       "    </tr>\n",
       "    <tr>\n",
       "      <th>2</th>\n",
       "      <td>Allen</td>\n",
       "      <td>Deer Creek Township</td>\n",
       "      <td>000030</td>\n",
       "      <td>60.0</td>\n",
       "      <td>1.0</td>\n",
       "      <td>11.0</td>\n",
       "    </tr>\n",
       "    <tr>\n",
       "      <th>3</th>\n",
       "      <td>Allen</td>\n",
       "      <td>East Elm</td>\n",
       "      <td>000040</td>\n",
       "      <td>237.0</td>\n",
       "      <td>2.0</td>\n",
       "      <td>45.0</td>\n",
       "    </tr>\n",
       "    <tr>\n",
       "      <th>4</th>\n",
       "      <td>Allen</td>\n",
       "      <td>Geneva Township</td>\n",
       "      <td>000050</td>\n",
       "      <td>65.0</td>\n",
       "      <td>0.0</td>\n",
       "      <td>12.0</td>\n",
       "    </tr>\n",
       "  </tbody>\n",
       "</table>\n",
       "</div>"
      ],
      "text/plain": [
       "  county                precinct     vtd  G20PRERTRU  G20PRELJOR  G20PREDBID\n",
       "0  Allen        Carlyle Township  000010       134.0         4.0        32.0\n",
       "1  Allen  Cottage Grove Township  000020       101.0         2.0        18.0\n",
       "2  Allen     Deer Creek Township  000030        60.0         1.0        11.0\n",
       "3  Allen                East Elm  000040       237.0         2.0        45.0\n",
       "4  Allen         Geneva Township  000050        65.0         0.0        12.0"
      ]
     },
     "execution_count": 11,
     "metadata": {},
     "output_type": "execute_result"
    }
   ],
   "source": [
    "pres_results = pd.concat([minor_counties_df, major_counties_df], axis = 0, ignore_index = True)\n",
    "pres_results.head()"
   ]
  },
  {
   "cell_type": "code",
   "execution_count": 12,
   "metadata": {},
   "outputs": [
    {
     "data": {
      "text/plain": [
       "(3867, 6)"
      ]
     },
     "execution_count": 12,
     "metadata": {},
     "output_type": "execute_result"
    }
   ],
   "source": [
    "pres_results.shape"
   ]
  },
  {
   "cell_type": "markdown",
   "metadata": {},
   "source": [
    "### Senate"
   ]
  },
  {
   "cell_type": "code",
   "execution_count": 13,
   "metadata": {},
   "outputs": [
    {
     "data": {
      "text/html": [
       "<div>\n",
       "<style scoped>\n",
       "    .dataframe tbody tr th:only-of-type {\n",
       "        vertical-align: middle;\n",
       "    }\n",
       "\n",
       "    .dataframe tbody tr th {\n",
       "        vertical-align: top;\n",
       "    }\n",
       "\n",
       "    .dataframe thead tr th {\n",
       "        text-align: left;\n",
       "    }\n",
       "</style>\n",
       "<table border=\"1\" class=\"dataframe\">\n",
       "  <thead>\n",
       "    <tr>\n",
       "      <th></th>\n",
       "      <th>County</th>\n",
       "      <th>Precinct</th>\n",
       "      <th>VTD</th>\n",
       "      <th colspan=\"3\" halign=\"left\">Votes</th>\n",
       "    </tr>\n",
       "    <tr>\n",
       "      <th>Race</th>\n",
       "      <th></th>\n",
       "      <th></th>\n",
       "      <th></th>\n",
       "      <th colspan=\"3\" halign=\"left\">United States Senate</th>\n",
       "    </tr>\n",
       "    <tr>\n",
       "      <th>Candidate</th>\n",
       "      <th></th>\n",
       "      <th></th>\n",
       "      <th></th>\n",
       "      <th>Bollier, Barbara</th>\n",
       "      <th>Buckley, Jason</th>\n",
       "      <th>Marshall, Roger</th>\n",
       "    </tr>\n",
       "  </thead>\n",
       "  <tbody>\n",
       "    <tr>\n",
       "      <th>0</th>\n",
       "      <td>Allen</td>\n",
       "      <td>Carlyle Township</td>\n",
       "      <td>000010</td>\n",
       "      <td>35.0</td>\n",
       "      <td>2.0</td>\n",
       "      <td>133.0</td>\n",
       "    </tr>\n",
       "  </tbody>\n",
       "</table>\n",
       "</div>"
      ],
      "text/plain": [
       "          County          Precinct     VTD                Votes  \\\n",
       "Race                                       United States Senate   \n",
       "Candidate                                      Bollier, Barbara   \n",
       "0          Allen  Carlyle Township  000010                 35.0   \n",
       "\n",
       "                                          \n",
       "Race                                      \n",
       "Candidate Buckley, Jason Marshall, Roger  \n",
       "0                    2.0           133.0  "
      ]
     },
     "execution_count": 13,
     "metadata": {},
     "output_type": "execute_result"
    }
   ],
   "source": [
    "senate_results = pd.ExcelFile('./raw-from-source/SOS/2020_General_Election_US_Senate_results_by_precinct-edited.xlsx')\n",
    "\n",
    "minor_counties_df = pd.read_excel(senate_results, 'U.S. Senate')\n",
    "minor_counties_df = minor_counties_df.pivot_table(index = ['County','Precinct','VTD'],\n",
    "                         columns = ['Race','Candidate'],\n",
    "                        values = ['Votes'],\n",
    "                         aggfunc = 'sum')\n",
    "minor_counties_df.reset_index(inplace=True)\n",
    "minor_counties_df.head(1)"
   ]
  },
  {
   "cell_type": "code",
   "execution_count": 14,
   "metadata": {},
   "outputs": [
    {
     "data": {
      "text/html": [
       "<div>\n",
       "<style scoped>\n",
       "    .dataframe tbody tr th:only-of-type {\n",
       "        vertical-align: middle;\n",
       "    }\n",
       "\n",
       "    .dataframe tbody tr th {\n",
       "        vertical-align: top;\n",
       "    }\n",
       "\n",
       "    .dataframe thead th {\n",
       "        text-align: right;\n",
       "    }\n",
       "</style>\n",
       "<table border=\"1\" class=\"dataframe\">\n",
       "  <thead>\n",
       "    <tr style=\"text-align: right;\">\n",
       "      <th></th>\n",
       "      <th>county</th>\n",
       "      <th>precinct</th>\n",
       "      <th>vtd</th>\n",
       "      <th>G20USSDBOL</th>\n",
       "      <th>G20USSLBUC</th>\n",
       "      <th>G20USSRMAR</th>\n",
       "    </tr>\n",
       "  </thead>\n",
       "  <tbody>\n",
       "    <tr>\n",
       "      <th>0</th>\n",
       "      <td>Allen</td>\n",
       "      <td>Carlyle Township</td>\n",
       "      <td>000010</td>\n",
       "      <td>35.0</td>\n",
       "      <td>2.0</td>\n",
       "      <td>133.0</td>\n",
       "    </tr>\n",
       "    <tr>\n",
       "      <th>1</th>\n",
       "      <td>Allen</td>\n",
       "      <td>Cottage Grove Township</td>\n",
       "      <td>000020</td>\n",
       "      <td>25.0</td>\n",
       "      <td>6.0</td>\n",
       "      <td>89.0</td>\n",
       "    </tr>\n",
       "    <tr>\n",
       "      <th>2</th>\n",
       "      <td>Allen</td>\n",
       "      <td>Deer Creek Township</td>\n",
       "      <td>000030</td>\n",
       "      <td>11.0</td>\n",
       "      <td>2.0</td>\n",
       "      <td>56.0</td>\n",
       "    </tr>\n",
       "    <tr>\n",
       "      <th>3</th>\n",
       "      <td>Allen</td>\n",
       "      <td>East Elm</td>\n",
       "      <td>000040</td>\n",
       "      <td>50.0</td>\n",
       "      <td>26.0</td>\n",
       "      <td>204.0</td>\n",
       "    </tr>\n",
       "    <tr>\n",
       "      <th>4</th>\n",
       "      <td>Allen</td>\n",
       "      <td>Geneva Township</td>\n",
       "      <td>000050</td>\n",
       "      <td>13.0</td>\n",
       "      <td>1.0</td>\n",
       "      <td>61.0</td>\n",
       "    </tr>\n",
       "    <tr>\n",
       "      <th>...</th>\n",
       "      <td>...</td>\n",
       "      <td>...</td>\n",
       "      <td>...</td>\n",
       "      <td>...</td>\n",
       "      <td>...</td>\n",
       "      <td>...</td>\n",
       "    </tr>\n",
       "    <tr>\n",
       "      <th>2750</th>\n",
       "      <td>Woodson</td>\n",
       "      <td>Toronto Township</td>\n",
       "      <td>000070</td>\n",
       "      <td>71.0</td>\n",
       "      <td>17.0</td>\n",
       "      <td>168.0</td>\n",
       "    </tr>\n",
       "    <tr>\n",
       "      <th>2751</th>\n",
       "      <td>Woodson</td>\n",
       "      <td>Yates Center Ward 1</td>\n",
       "      <td>00008A</td>\n",
       "      <td>78.0</td>\n",
       "      <td>37.0</td>\n",
       "      <td>206.0</td>\n",
       "    </tr>\n",
       "    <tr>\n",
       "      <th>2752</th>\n",
       "      <td>Woodson</td>\n",
       "      <td>Yates Center Ward 1 Exclave</td>\n",
       "      <td>00008B</td>\n",
       "      <td>0.0</td>\n",
       "      <td>0.0</td>\n",
       "      <td>0.0</td>\n",
       "    </tr>\n",
       "    <tr>\n",
       "      <th>2753</th>\n",
       "      <td>Woodson</td>\n",
       "      <td>Yates Center Ward 2</td>\n",
       "      <td>000090</td>\n",
       "      <td>70.0</td>\n",
       "      <td>18.0</td>\n",
       "      <td>205.0</td>\n",
       "    </tr>\n",
       "    <tr>\n",
       "      <th>2754</th>\n",
       "      <td>Woodson</td>\n",
       "      <td>Yates Center Ward 2 Exclave</td>\n",
       "      <td>900010</td>\n",
       "      <td>0.0</td>\n",
       "      <td>0.0</td>\n",
       "      <td>0.0</td>\n",
       "    </tr>\n",
       "  </tbody>\n",
       "</table>\n",
       "<p>2755 rows × 6 columns</p>\n",
       "</div>"
      ],
      "text/plain": [
       "       county                     precinct     vtd  G20USSDBOL  G20USSLBUC  \\\n",
       "0       Allen             Carlyle Township  000010        35.0         2.0   \n",
       "1       Allen       Cottage Grove Township  000020        25.0         6.0   \n",
       "2       Allen          Deer Creek Township  000030        11.0         2.0   \n",
       "3       Allen                     East Elm  000040        50.0        26.0   \n",
       "4       Allen              Geneva Township  000050        13.0         1.0   \n",
       "...       ...                          ...     ...         ...         ...   \n",
       "2750  Woodson             Toronto Township  000070        71.0        17.0   \n",
       "2751  Woodson          Yates Center Ward 1  00008A        78.0        37.0   \n",
       "2752  Woodson  Yates Center Ward 1 Exclave  00008B         0.0         0.0   \n",
       "2753  Woodson          Yates Center Ward 2  000090        70.0        18.0   \n",
       "2754  Woodson  Yates Center Ward 2 Exclave  900010         0.0         0.0   \n",
       "\n",
       "      G20USSRMAR  \n",
       "0          133.0  \n",
       "1           89.0  \n",
       "2           56.0  \n",
       "3          204.0  \n",
       "4           61.0  \n",
       "...          ...  \n",
       "2750       168.0  \n",
       "2751       206.0  \n",
       "2752         0.0  \n",
       "2753       205.0  \n",
       "2754         0.0  \n",
       "\n",
       "[2755 rows x 6 columns]"
      ]
     },
     "execution_count": 14,
     "metadata": {},
     "output_type": "execute_result"
    }
   ],
   "source": [
    "minor_counties_df.columns = ['county','precinct','vtd','G20USSDBOL','G20USSLBUC','G20USSRMAR']\n",
    "minor_counties_df"
   ]
  },
  {
   "cell_type": "code",
   "execution_count": 15,
   "metadata": {},
   "outputs": [
    {
     "data": {
      "text/html": [
       "<div>\n",
       "<style scoped>\n",
       "    .dataframe tbody tr th:only-of-type {\n",
       "        vertical-align: middle;\n",
       "    }\n",
       "\n",
       "    .dataframe tbody tr th {\n",
       "        vertical-align: top;\n",
       "    }\n",
       "\n",
       "    .dataframe thead th {\n",
       "        text-align: right;\n",
       "    }\n",
       "</style>\n",
       "<table border=\"1\" class=\"dataframe\">\n",
       "  <thead>\n",
       "    <tr style=\"text-align: right;\">\n",
       "      <th></th>\n",
       "      <th>county</th>\n",
       "      <th>precinct</th>\n",
       "      <th>vtd</th>\n",
       "      <th>G20USSDBOL</th>\n",
       "      <th>G20USSLBUC</th>\n",
       "      <th>G20USSRMAR</th>\n",
       "    </tr>\n",
       "  </thead>\n",
       "  <tbody>\n",
       "    <tr>\n",
       "      <th>0</th>\n",
       "      <td>Johnson</td>\n",
       "      <td>Aubry Township Precinct 01</td>\n",
       "      <td>1</td>\n",
       "      <td>42</td>\n",
       "      <td>6</td>\n",
       "      <td>97</td>\n",
       "    </tr>\n",
       "    <tr>\n",
       "      <th>1</th>\n",
       "      <td>Johnson</td>\n",
       "      <td>Aubry Township Precinct 02</td>\n",
       "      <td>2</td>\n",
       "      <td>377</td>\n",
       "      <td>44</td>\n",
       "      <td>579</td>\n",
       "    </tr>\n",
       "    <tr>\n",
       "      <th>2</th>\n",
       "      <td>Johnson</td>\n",
       "      <td>Aubry Township Precinct 03</td>\n",
       "      <td>3</td>\n",
       "      <td>180</td>\n",
       "      <td>35</td>\n",
       "      <td>315</td>\n",
       "    </tr>\n",
       "    <tr>\n",
       "      <th>3</th>\n",
       "      <td>Johnson</td>\n",
       "      <td>Aubry Township Precinct 04</td>\n",
       "      <td>4</td>\n",
       "      <td>473</td>\n",
       "      <td>66</td>\n",
       "      <td>812</td>\n",
       "    </tr>\n",
       "    <tr>\n",
       "      <th>4</th>\n",
       "      <td>Johnson</td>\n",
       "      <td>Aubry Township Precinct 05</td>\n",
       "      <td>5</td>\n",
       "      <td>7</td>\n",
       "      <td>0</td>\n",
       "      <td>10</td>\n",
       "    </tr>\n",
       "  </tbody>\n",
       "</table>\n",
       "</div>"
      ],
      "text/plain": [
       "    county                    precinct vtd  G20USSDBOL  G20USSLBUC  G20USSRMAR\n",
       "0  Johnson  Aubry Township Precinct 01   1          42           6          97\n",
       "1  Johnson  Aubry Township Precinct 02   2         377          44         579\n",
       "2  Johnson  Aubry Township Precinct 03   3         180          35         315\n",
       "3  Johnson  Aubry Township Precinct 04   4         473          66         812\n",
       "4  Johnson  Aubry Township Precinct 05   5           7           0          10"
      ]
     },
     "execution_count": 15,
     "metadata": {},
     "output_type": "execute_result"
    }
   ],
   "source": [
    "major_counties_df = pd.read_excel(senate_results, 'Other Counties')\n",
    "major_counties_df.head()"
   ]
  },
  {
   "cell_type": "code",
   "execution_count": 16,
   "metadata": {},
   "outputs": [
    {
     "data": {
      "text/html": [
       "<div>\n",
       "<style scoped>\n",
       "    .dataframe tbody tr th:only-of-type {\n",
       "        vertical-align: middle;\n",
       "    }\n",
       "\n",
       "    .dataframe tbody tr th {\n",
       "        vertical-align: top;\n",
       "    }\n",
       "\n",
       "    .dataframe thead th {\n",
       "        text-align: right;\n",
       "    }\n",
       "</style>\n",
       "<table border=\"1\" class=\"dataframe\">\n",
       "  <thead>\n",
       "    <tr style=\"text-align: right;\">\n",
       "      <th></th>\n",
       "      <th>county</th>\n",
       "      <th>precinct</th>\n",
       "      <th>vtd</th>\n",
       "      <th>G20USSDBOL</th>\n",
       "      <th>G20USSLBUC</th>\n",
       "      <th>G20USSRMAR</th>\n",
       "    </tr>\n",
       "  </thead>\n",
       "  <tbody>\n",
       "    <tr>\n",
       "      <th>0</th>\n",
       "      <td>Allen</td>\n",
       "      <td>Carlyle Township</td>\n",
       "      <td>000010</td>\n",
       "      <td>35.0</td>\n",
       "      <td>2.0</td>\n",
       "      <td>133.0</td>\n",
       "    </tr>\n",
       "    <tr>\n",
       "      <th>1</th>\n",
       "      <td>Allen</td>\n",
       "      <td>Cottage Grove Township</td>\n",
       "      <td>000020</td>\n",
       "      <td>25.0</td>\n",
       "      <td>6.0</td>\n",
       "      <td>89.0</td>\n",
       "    </tr>\n",
       "    <tr>\n",
       "      <th>2</th>\n",
       "      <td>Allen</td>\n",
       "      <td>Deer Creek Township</td>\n",
       "      <td>000030</td>\n",
       "      <td>11.0</td>\n",
       "      <td>2.0</td>\n",
       "      <td>56.0</td>\n",
       "    </tr>\n",
       "    <tr>\n",
       "      <th>3</th>\n",
       "      <td>Allen</td>\n",
       "      <td>East Elm</td>\n",
       "      <td>000040</td>\n",
       "      <td>50.0</td>\n",
       "      <td>26.0</td>\n",
       "      <td>204.0</td>\n",
       "    </tr>\n",
       "    <tr>\n",
       "      <th>4</th>\n",
       "      <td>Allen</td>\n",
       "      <td>Geneva Township</td>\n",
       "      <td>000050</td>\n",
       "      <td>13.0</td>\n",
       "      <td>1.0</td>\n",
       "      <td>61.0</td>\n",
       "    </tr>\n",
       "  </tbody>\n",
       "</table>\n",
       "</div>"
      ],
      "text/plain": [
       "  county                precinct     vtd  G20USSDBOL  G20USSLBUC  G20USSRMAR\n",
       "0  Allen        Carlyle Township  000010        35.0         2.0       133.0\n",
       "1  Allen  Cottage Grove Township  000020        25.0         6.0        89.0\n",
       "2  Allen     Deer Creek Township  000030        11.0         2.0        56.0\n",
       "3  Allen                East Elm  000040        50.0        26.0       204.0\n",
       "4  Allen         Geneva Township  000050        13.0         1.0        61.0"
      ]
     },
     "execution_count": 16,
     "metadata": {},
     "output_type": "execute_result"
    }
   ],
   "source": [
    "senate_results = pd.concat([minor_counties_df, major_counties_df], axis = 0, ignore_index = True)\n",
    "senate_results.head()"
   ]
  },
  {
   "cell_type": "code",
   "execution_count": 17,
   "metadata": {},
   "outputs": [
    {
     "data": {
      "text/plain": [
       "(3867, 6)"
      ]
     },
     "execution_count": 17,
     "metadata": {},
     "output_type": "execute_result"
    }
   ],
   "source": [
    "senate_results.shape"
   ]
  },
  {
   "cell_type": "markdown",
   "metadata": {},
   "source": [
    "### Combine Results"
   ]
  },
  {
   "cell_type": "code",
   "execution_count": 18,
   "metadata": {},
   "outputs": [],
   "source": [
    "election_results = pres_results.merge(senate_results, how = 'outer', on = ['county','precinct','vtd'])"
   ]
  },
  {
   "cell_type": "code",
   "execution_count": 19,
   "metadata": {},
   "outputs": [
    {
     "data": {
      "text/html": [
       "<div>\n",
       "<style scoped>\n",
       "    .dataframe tbody tr th:only-of-type {\n",
       "        vertical-align: middle;\n",
       "    }\n",
       "\n",
       "    .dataframe tbody tr th {\n",
       "        vertical-align: top;\n",
       "    }\n",
       "\n",
       "    .dataframe thead th {\n",
       "        text-align: right;\n",
       "    }\n",
       "</style>\n",
       "<table border=\"1\" class=\"dataframe\">\n",
       "  <thead>\n",
       "    <tr style=\"text-align: right;\">\n",
       "      <th></th>\n",
       "      <th>county</th>\n",
       "      <th>precinct</th>\n",
       "      <th>vtd</th>\n",
       "      <th>G20PRERTRU</th>\n",
       "      <th>G20PRELJOR</th>\n",
       "      <th>G20PREDBID</th>\n",
       "      <th>G20USSDBOL</th>\n",
       "      <th>G20USSLBUC</th>\n",
       "      <th>G20USSRMAR</th>\n",
       "    </tr>\n",
       "  </thead>\n",
       "  <tbody>\n",
       "    <tr>\n",
       "      <th>0</th>\n",
       "      <td>Allen</td>\n",
       "      <td>Carlyle Township</td>\n",
       "      <td>000010</td>\n",
       "      <td>134.0</td>\n",
       "      <td>4.0</td>\n",
       "      <td>32.0</td>\n",
       "      <td>35.0</td>\n",
       "      <td>2.0</td>\n",
       "      <td>133.0</td>\n",
       "    </tr>\n",
       "    <tr>\n",
       "      <th>1</th>\n",
       "      <td>Allen</td>\n",
       "      <td>Cottage Grove Township</td>\n",
       "      <td>000020</td>\n",
       "      <td>101.0</td>\n",
       "      <td>2.0</td>\n",
       "      <td>18.0</td>\n",
       "      <td>25.0</td>\n",
       "      <td>6.0</td>\n",
       "      <td>89.0</td>\n",
       "    </tr>\n",
       "    <tr>\n",
       "      <th>2</th>\n",
       "      <td>Allen</td>\n",
       "      <td>Deer Creek Township</td>\n",
       "      <td>000030</td>\n",
       "      <td>60.0</td>\n",
       "      <td>1.0</td>\n",
       "      <td>11.0</td>\n",
       "      <td>11.0</td>\n",
       "      <td>2.0</td>\n",
       "      <td>56.0</td>\n",
       "    </tr>\n",
       "    <tr>\n",
       "      <th>3</th>\n",
       "      <td>Allen</td>\n",
       "      <td>East Elm</td>\n",
       "      <td>000040</td>\n",
       "      <td>237.0</td>\n",
       "      <td>2.0</td>\n",
       "      <td>45.0</td>\n",
       "      <td>50.0</td>\n",
       "      <td>26.0</td>\n",
       "      <td>204.0</td>\n",
       "    </tr>\n",
       "    <tr>\n",
       "      <th>4</th>\n",
       "      <td>Allen</td>\n",
       "      <td>Geneva Township</td>\n",
       "      <td>000050</td>\n",
       "      <td>65.0</td>\n",
       "      <td>0.0</td>\n",
       "      <td>12.0</td>\n",
       "      <td>13.0</td>\n",
       "      <td>1.0</td>\n",
       "      <td>61.0</td>\n",
       "    </tr>\n",
       "  </tbody>\n",
       "</table>\n",
       "</div>"
      ],
      "text/plain": [
       "  county                precinct     vtd  G20PRERTRU  G20PRELJOR  G20PREDBID  \\\n",
       "0  Allen        Carlyle Township  000010       134.0         4.0        32.0   \n",
       "1  Allen  Cottage Grove Township  000020       101.0         2.0        18.0   \n",
       "2  Allen     Deer Creek Township  000030        60.0         1.0        11.0   \n",
       "3  Allen                East Elm  000040       237.0         2.0        45.0   \n",
       "4  Allen         Geneva Township  000050        65.0         0.0        12.0   \n",
       "\n",
       "   G20USSDBOL  G20USSLBUC  G20USSRMAR  \n",
       "0        35.0         2.0       133.0  \n",
       "1        25.0         6.0        89.0  \n",
       "2        11.0         2.0        56.0  \n",
       "3        50.0        26.0       204.0  \n",
       "4        13.0         1.0        61.0  "
      ]
     },
     "execution_count": 19,
     "metadata": {},
     "output_type": "execute_result"
    }
   ],
   "source": [
    "election_results.head()"
   ]
  },
  {
   "cell_type": "code",
   "execution_count": 20,
   "metadata": {},
   "outputs": [],
   "source": [
    "for c in [c for c in election_results.columns if 'G20' in c]:\n",
    "    election_results[c] = election_results[c].astype(int)"
   ]
  },
  {
   "cell_type": "code",
   "execution_count": 21,
   "metadata": {},
   "outputs": [],
   "source": [
    "election_results['COUNTYFP'] = election_results['county'].map(fips_dict)"
   ]
  },
  {
   "cell_type": "code",
   "execution_count": 22,
   "metadata": {},
   "outputs": [
    {
     "data": {
      "text/plain": [
       "3867"
      ]
     },
     "execution_count": 22,
     "metadata": {},
     "output_type": "execute_result"
    }
   ],
   "source": [
    "election_results['COUNTYFP'].count()"
   ]
  },
  {
   "cell_type": "code",
   "execution_count": 23,
   "metadata": {},
   "outputs": [
    {
     "data": {
      "text/plain": [
       "(3867, 10)"
      ]
     },
     "execution_count": 23,
     "metadata": {},
     "output_type": "execute_result"
    }
   ],
   "source": [
    "election_results.shape"
   ]
  },
  {
   "cell_type": "code",
   "execution_count": 24,
   "metadata": {},
   "outputs": [
    {
     "data": {
      "text/plain": [
       "(4070, 10)"
      ]
     },
     "execution_count": 24,
     "metadata": {},
     "output_type": "execute_result"
    }
   ],
   "source": [
    "vest_shp.shape"
   ]
  },
  {
   "cell_type": "markdown",
   "metadata": {},
   "source": [
    "# Validating Election Results"
   ]
  },
  {
   "cell_type": "markdown",
   "metadata": {},
   "source": [
    "## Statewide"
   ]
  },
  {
   "cell_type": "code",
   "execution_count": 25,
   "metadata": {},
   "outputs": [
    {
     "data": {
      "text/plain": [
       "Index(['county', 'precinct', 'vtd', 'G20PRERTRU', 'G20PRELJOR', 'G20PREDBID',\n",
       "       'G20USSDBOL', 'G20USSLBUC', 'G20USSRMAR', 'COUNTYFP'],\n",
       "      dtype='object')"
      ]
     },
     "execution_count": 25,
     "metadata": {},
     "output_type": "execute_result"
    }
   ],
   "source": [
    "election_results.columns"
   ]
  },
  {
   "cell_type": "code",
   "execution_count": 26,
   "metadata": {},
   "outputs": [
    {
     "name": "stdout",
     "output_type": "stream",
     "text": [
      "***Statewide Totals Check***\n",
      "G20PREDBID is equal \tVEST / RDH: 570323\n",
      "G20PRELJOR is equal \tVEST / RDH: 30574\n",
      "G20PRERTRU is equal \tVEST / RDH: 771406\n",
      "G20USSDBOL is equal \tVEST / RDH: 571530\n",
      "G20USSLBUC is equal \tVEST / RDH: 68263\n",
      "G20USSRMAR is equal \tVEST / RDH: 727962\n"
     ]
    }
   ],
   "source": [
    "def statewide_totals_check(partner_df,source_df,column_list):\n",
    "    print(\"***Statewide Totals Check***\")\n",
    "    for race in column_list:\n",
    "        if (sum(partner_df[race])- source_df[race].sum() != 0):\n",
    "            print(race+\" has a difference of \"+str(sum(partner_df[race])-source_df[race].sum())+\" votes\")\n",
    "            print(\"\\tVEST: \"+str(sum(partner_df[race]))+\" votes\")\n",
    "            print(\"\\tSOURCES: \"+str(source_df[race].sum())+\" votes\")\n",
    "        else:\n",
    "            print(race + \" is equal\", \"\\tVEST / RDH: \" + str(sum(partner_df[race])))\n",
    "\n",
    "\n",
    "data_columns = ['G20PREDBID', 'G20PRELJOR', 'G20PRERTRU',\n",
    "       'G20USSDBOL', 'G20USSLBUC', 'G20USSRMAR']\n",
    "\n",
    "statewide_totals_check(vest_shp, election_results, data_columns)\n"
   ]
  },
  {
   "cell_type": "markdown",
   "metadata": {},
   "source": [
    "These match the state's election results [here](https://sos.ks.gov/elections/20elec/2020_General_Official_Vote_Totals.pdf). "
   ]
  },
  {
   "cell_type": "markdown",
   "metadata": {},
   "source": [
    "## County-by-county"
   ]
  },
  {
   "cell_type": "code",
   "execution_count": 27,
   "metadata": {},
   "outputs": [
    {
     "name": "stdout",
     "output_type": "stream",
     "text": [
      "***Countywide Totals Check***\n",
      "\n",
      "G20PREDBID is equal across all counties\n",
      "G20PRELJOR is equal across all counties\n",
      "G20PRERTRU is equal across all counties\n",
      "G20USSDBOL is equal across all counties\n",
      "G20USSLBUC is equal across all counties\n",
      "G20USSRMAR is equal across all counties\n"
     ]
    }
   ],
   "source": [
    "def county_totals_check(partner_df,source_df,column_list,county_col,full_print=False):\n",
    "    print(\"***Countywide Totals Check***\")\n",
    "    print(\"\")\n",
    "    diff_counties=[]\n",
    "    for race in column_list:\n",
    "        diff = partner_df.groupby([county_col]).sum()[race]-source_df.groupby([county_col]).sum()[race]\n",
    "        for val in diff[diff != 0].index.values.tolist():\n",
    "            if val not in diff_counties:\n",
    "                diff_counties.append(val)\n",
    "        if len(diff[diff != 0]!=0):   \n",
    "            print(race + \" contains differences in these counties:\")\n",
    "            for val in diff[diff != 0].index.values.tolist():\n",
    "                county_differences = diff[diff != 0]\n",
    "                print(\"\\t\"+val+\" has a difference of \"+str(county_differences[val])+\" votes\")\n",
    "                print(\"\\t\\tVEST: \"+str(partner_df.groupby([county_col]).sum().loc[val,race])+\" votes\")\n",
    "                print(\"\\t\\tSOURCES: \"+str(source_df.groupby([county_col]).sum().loc[val,race])+\" votes\")\n",
    "            if (full_print):\n",
    "                for val in diff[diff == 0].index.values.tolist():\n",
    "                    county_similarities = diff[diff == 0]\n",
    "                    print(\"\\t\"+val + \": \"+ str(partner_df.groupby([county_col]).sum().loc[val,race])+\" votes\")\n",
    "        else:\n",
    "            print(race + \" is equal across all counties\")\n",
    "            if (full_print):\n",
    "                for val in diff[diff == 0].index.values.tolist():\n",
    "                    county_similarities = diff[diff == 0]\n",
    "                    print(\"\\t\"+val + \": \"+ str(partner_df.groupby([county_col]).sum().loc[val,race])+\" votes\")\n",
    "\n",
    "                    \n",
    "county_totals_check(vest_shp,election_results,data_columns,'COUNTYFP')"
   ]
  },
  {
   "cell_type": "markdown",
   "metadata": {},
   "source": [
    "## Precinct-by-precinct"
   ]
  },
  {
   "cell_type": "markdown",
   "metadata": {},
   "source": [
    "VEST performed the following merges and splits of precincts in order to join the files: \n",
    "```\n",
    "- Barber: Ridge merged into Sharon Township\n",
    "- Butler: Augusta Township merged\n",
    "- Chase: East/West Strong merged, East/West Falls merged\n",
    "- Cherokee: Treece merged with township\n",
    "- Clay: Altered Clay Center boundaries based on PDF map\n",
    "- Cowley: Merge East/West Bolton\n",
    "- Douglas: Altered based on PDF map\n",
    "- Ellis: Split two precincts based on state house districts\n",
    "- Franklin: Merged Ottawa 4+5, altered boundary between 1 and 2\n",
    "- Hamilton: Adjusted Syracuse boundaries based on county commission district map\n",
    "- Harvey: Distributed an exclave district to its neighboring townships\n",
    "- Labette: Split precincts based on legislative districts\n",
    "- Leavenworth: Merged legislative district-split precincts that don't appear in results\n",
    "- Lyon: Mergers based on PDF map\n",
    "- Meade: Split Louisburg based on PDF map\n",
    "- Mitchell: Merged Beloit precincts based on county reports\n",
    "- Osborne: Merged some cities into surrounding townships, split Ross based on information from personal communication with county election official\n",
    "- Reno: Merged based on PDF map\n",
    "- Shawnee: Merged wards in Topeka to match result reporting\n",
    "- Stevens: Cut Moscow City out of Township using Census place shapefile, recut Hugoton based on PDF map\n",
    "- Sumner: Split precincts based on legislative district lines\n",
    "```\n",
    "\n",
    "We are not going to validate the precinct by precinct election results at this time, as there is a difference of 4,070 precincts in the VEST file and 3,867 in the sos election results, and the county by county election results match. "
   ]
  }
 ],
 "metadata": {
  "kernelspec": {
   "display_name": "Python 3",
   "language": "python",
   "name": "python3"
  },
  "language_info": {
   "codemirror_mode": {
    "name": "ipython",
    "version": 3
   },
   "file_extension": ".py",
   "mimetype": "text/x-python",
   "name": "python",
   "nbconvert_exporter": "python",
   "pygments_lexer": "ipython3",
   "version": "3.8.3"
  },
  "toc-autonumbering": true
 },
 "nbformat": 4,
 "nbformat_minor": 4
}
